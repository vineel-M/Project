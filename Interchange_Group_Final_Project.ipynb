{
  "cells": [
    {
      "cell_type": "markdown",
      "metadata": {
        "id": "view-in-github",
        "colab_type": "text"
      },
      "source": [
        "<a href=\"https://colab.research.google.com/github/vineel-M/Project/blob/main/Interchange_Group_Final_Project.ipynb\" target=\"_parent\"><img src=\"https://colab.research.google.com/assets/colab-badge.svg\" alt=\"Open In Colab\"/></a>"
      ]
    },
    {
      "cell_type": "markdown",
      "source": [
        "**Project Overview**\n",
        "\n",
        "Interchange Group, Inc. is a third-party logistics company based in Harrisonburg, Virginia. One\n",
        "of the services they provide is to blast freeze poultry products. The company received a grant\n",
        "to build the blast freezer and they want to increase the throughput of meat from Virginia that is\n",
        "processed. To that end, the company would like to evaluate policies by which they request\n",
        "suppliers to bring trucks of poultry.\n",
        "The question that we seek to answer with this project is: how many trucks should Interchange\n",
        "schedule to deliver poultry each week?\n",
        "The freezer has 288 cells, each of which can hold one pallet at a time. Assume that all cells are\n",
        "available at the beginning of each week, so that the total freezing time available is\n",
        "288 cells × 24 hours\n",
        "day × 5 days = 34,560 hours each week.\n",
        "A truck can carry 24 pallets. We will assume that all trucks carry full loads. You will be provided\n",
        "historical data on past shipments – there will be data for each pallet including the date, receipt\n",
        "number (the truck on which it arrived), and the product (e.g., chicken wings or breasts). For\n",
        "each product, there is a table with the freezing time.\n",
        "Interchange can call suppliers at the beginning of the week and ask for a number of trucks of\n",
        "product, but the type of product is unknown.\n",
        "\n",
        "The only source of uncertainty is the required processing time for each pallet. Define a\n",
        "distribution in the absence of data. Do not sequence or place the pallets in cells but keep track\n",
        "of total processing time to check if it exceeds 34,560 hours.\n",
        "Develop a simulation model that prescribes how many trucks to schedule for a week. How\n",
        "many trucks can be scheduled in a week so that there is at most a 50% chance the processing\n",
        "time does not exceed 34,560 hours? How many trucks can be scheduled in a week so that\n",
        "there is at most a 5% chance that the processing time does not exceed 34,560 hours?\n",
        "\n",
        "**Final Report**\n",
        "\n",
        "For the final report, use historical data to find a distribution for the processing time of each\n",
        "pallet. Update the simulation to use sample the new distribution. Do the results change?\n",
        "Use the historical data to calculate the total processing time for all pallets delivered each week.\n",
        "Describe the distribution of total processing time in one week.\n",
        "Based on an analysis of the historical data, derive a new estimate for the total processing time\n",
        "available for a week. Re-run the simulation with the new value for the total processing time\n",
        "available for a week. Determine the number of trucks to schedule each day so that there is at\n",
        "most a 50% chance that the processing time available is exceeded. Determine the number of\n",
        "trucks for each scenario so that there is at most a 5% chance the processing time available is\n",
        "exceeded"
      ],
      "metadata": {
        "id": "c2QH-CFaHFG-"
      }
    },
    {
      "cell_type": "markdown",
      "metadata": {
        "id": "AW_MY-9Np_JJ"
      },
      "source": [
        "Mount Google Drive"
      ]
    },
    {
      "cell_type": "code",
      "execution_count": null,
      "metadata": {
        "colab": {
          "base_uri": "https://localhost:8080/"
        },
        "id": "TNozdaKVqDlK",
        "outputId": "63c5e88d-7a5b-43f7-ec9d-945386ed61ac"
      },
      "outputs": [
        {
          "output_type": "stream",
          "name": "stdout",
          "text": [
            "Mounted at /content/drive\n"
          ]
        }
      ],
      "source": [
        "from google.colab import drive\n",
        "drive.mount(\"/content/drive\")"
      ]
    },
    {
      "cell_type": "markdown",
      "metadata": {
        "id": "wg9SYYM0q3Bu"
      },
      "source": [
        "Add our 645 folder to the path"
      ]
    },
    {
      "cell_type": "code",
      "execution_count": null,
      "metadata": {
        "id": "f9YjB08Gq-i6"
      },
      "outputs": [],
      "source": [
        "import sys\n",
        "sys.path.insert(0, \"/content/drive/MyDrive/645\")   #creating a path"
      ]
    },
    {
      "cell_type": "markdown",
      "metadata": {
        "id": "Nug4c4eJrNgT"
      },
      "source": [
        "Import brooks.py code"
      ]
    },
    {
      "cell_type": "code",
      "execution_count": null,
      "metadata": {
        "id": "Tw89wEFnrSGk"
      },
      "outputs": [],
      "source": [
        "from brooks import *"
      ]
    },
    {
      "cell_type": "markdown",
      "metadata": {
        "id": "rEcDSB4cr34A"
      },
      "source": [
        "Import other libraries"
      ]
    },
    {
      "cell_type": "code",
      "execution_count": null,
      "metadata": {
        "id": "L1Qr5uM7r2Cv"
      },
      "outputs": [],
      "source": [
        "import pandas as pd   #for importing data\n",
        "import seaborn as sns   #for creating plots\n",
        "import numpy as np    #for generating random samples\n",
        "import matplotlib.pyplot as plt\n"
      ]
    },
    {
      "cell_type": "markdown",
      "metadata": {
        "id": "Xd9KqEgibQmI"
      },
      "source": [
        "Read data"
      ]
    },
    {
      "cell_type": "code",
      "execution_count": null,
      "metadata": {
        "id": "PMLNDbMBbWYI",
        "colab": {
          "base_uri": "https://localhost:8080/"
        },
        "outputId": "c4fd9d62-9599-414d-e900-3de894cf0f14"
      },
      "outputs": [
        {
          "output_type": "stream",
          "name": "stdout",
          "text": [
            "0        61.5\n",
            "1        61.5\n",
            "2        61.5\n",
            "3        72.0\n",
            "4        72.0\n",
            "         ... \n",
            "16719    46.0\n",
            "16720    46.0\n",
            "16721    46.0\n",
            "16722    46.0\n",
            "16723    43.0\n",
            "Name: Hours, Length: 16724, dtype: float64\n",
            "    Week  Total Processing Time (Hours)\n",
            "0      1                       15561.50\n",
            "1      2                       15869.75\n",
            "2      3                       24679.75\n",
            "3      4                       18614.50\n",
            "4      5                       13885.50\n",
            "5      6                       14970.00\n",
            "6      7                       16318.75\n",
            "7      8                       21025.00\n",
            "8      9                       19298.00\n",
            "9     10                       15024.75\n",
            "10    11                       19600.25\n",
            "11    12                       17569.50\n",
            "12    13                       22432.00\n",
            "13    14                       15471.25\n",
            "14    15                       18403.50\n",
            "15    16                       16001.50\n",
            "16    17                       14429.25\n",
            "17    18                       14438.50\n",
            "18    19                       15123.75\n",
            "19    20                       17707.25\n",
            "20    21                       12501.00\n",
            "21    22                       16029.75\n",
            "22    23                       16293.00\n",
            "23    24                       12923.00\n",
            "24    25                       12752.00\n",
            "25    26                       10914.00\n",
            "26    27                       13246.50\n",
            "27    28                       11786.50\n",
            "28    29                       13049.00\n",
            "29    30                       16155.25\n",
            "30    31                       18025.50\n",
            "31    32                       18292.50\n",
            "32    33                       13663.75\n",
            "33    34                       15716.50\n",
            "34    35                       17150.50\n",
            "35    36                       14132.00\n",
            "36    37                       13177.00\n",
            "37    38                       15565.50\n",
            "38    39                       15861.25\n",
            "39    40                        8492.25\n",
            "40    41                       14613.75\n",
            "41    42                       24796.75\n",
            "42    43                       17734.25\n",
            "43    44                       15521.25\n",
            "44    45                       15860.50\n",
            "45    46                       19774.00\n",
            "46    47                       11897.50\n",
            "47    48                       19729.00\n",
            "48    49                       11065.00\n",
            "49    50                       16971.25\n",
            "50    51                       13729.75\n",
            "51    52                       16083.75\n"
          ]
        },
        {
          "output_type": "stream",
          "name": "stderr",
          "text": [
            "<ipython-input-5-e7c983f6a4fe>:13: FutureWarning: Series.dt.weekofyear and Series.dt.week have been deprecated. Please use Series.dt.isocalendar().week instead.\n",
            "  weekly_processing_time = my_data.groupby(my_data[\"Date\"].dt.week)[\"Hours\"].sum().reset_index()\n"
          ]
        }
      ],
      "source": [
        "## For the processing time for each pallet\n",
        "\n",
        "my_data = pd.read_excel(\"/content/drive/MyDrive/645/Project_Final_Data_Filtered.xlsx\", sheet_name=\"Sheet1\")\n",
        "print(my_data[\"Hours\"])\n",
        "\n",
        "## For the processing time for all pallets delivered each week\n",
        "\n",
        "# Load the data from the Excel file\n",
        "my_data = pd.read_excel(\"/content/drive/MyDrive/645/Project_Final_Data_Filtered.xlsx\", sheet_name=\"Sheet1\")\n",
        "# Convert the \"Date\" column to datetime type\n",
        "my_data[\"Date\"] = pd.to_datetime(my_data[\"Date\"])\n",
        "# Group the data by week and calculate the sum of processing time for each week\n",
        "weekly_processing_time = my_data.groupby(my_data[\"Date\"].dt.week)[\"Hours\"].sum().reset_index()\n",
        "# Rename the columns for clarity\n",
        "weekly_processing_time.columns = [\"Week\", \"Total Processing Time (Hours)\"]\n",
        "# Print the result\n",
        "print(weekly_processing_time)\n"
      ]
    },
    {
      "cell_type": "markdown",
      "metadata": {
        "id": "NqnQBePnPWCl"
      },
      "source": [
        "Fit a distribution"
      ]
    },
    {
      "cell_type": "code",
      "execution_count": null,
      "metadata": {
        "id": "IebjhCAJ-TOZ",
        "colab": {
          "base_uri": "https://localhost:8080/",
          "height": 466
        },
        "outputId": "6c2e3678-c536-4a21-87a3-0d46b97be3d7"
      },
      "outputs": [
        {
          "output_type": "execute_result",
          "data": {
            "text/plain": [
              "<Axes: xlabel='Hours', ylabel='Count'>"
            ]
          },
          "metadata": {},
          "execution_count": 6
        },
        {
          "output_type": "display_data",
          "data": {
            "text/plain": [
              "<Figure size 640x480 with 1 Axes>"
            ],
            "image/png": "[encoded data removed]"
          },
          "metadata": {}
        }
      ],
      "source": [
        "sns.histplot(my_data[\"Hours\"], kde=True) # total processing time of eah pallet\n",
        "#sns.histplot(weekly_processing_time[\"Total Processing Time (Hours)\"], kde=True)  # total processing time of all palet each week"
      ]
    },
    {
      "cell_type": "markdown",
      "metadata": {
        "id": "SBb_VHJGCgvV"
      },
      "source": [
        "Conduct a chi-square test"
      ]
    },
    {
      "cell_type": "code",
      "execution_count": null,
      "metadata": {
        "id": "vbLwxdgq-utZ",
        "colab": {
          "base_uri": "https://localhost:8080/"
        },
        "outputId": "01d00a84-1614-4914-901d-135b1321d9fc"
      },
      "outputs": [
        {
          "output_type": "stream",
          "name": "stdout",
          "text": [
            "For a normal distribution, the mean estimate is 49.624955 and the standard deviation estimate is 13.389290.\n",
            "The test statistic for a normal distribution is 94608.142639 and the p-value is 0.000000.\n",
            "For a gamma distribution, the alpha estimate is 13.421428 and the 1/beta estimate is 3.697442.\n",
            "The test statistic for a gamma distribution is 96970.811010 and the p-value is 0.000000.\n",
            "For a triangular distribution, the min estimate is 15.448938, the mode estimate is 72.000000, and the max estimate is 72.003638.\n",
            "The test statistic for a triangular distribution is 63762.080041 and the p-value is 0.000000.\n",
            "For a normal distribution, the mean estimate is 15960.149038 and the standard deviation estimate is 3195.510397.\n",
            "The test statistic for a normal distribution is 4.834841 and the p-value is 0.680110.\n",
            "For a gamma distribution, the alpha estimate is 25.321580 and the 1/beta estimate is 630.298301.\n",
            "The test statistic for a gamma distribution is 3.244821 and the p-value is 0.861469.\n",
            "For a triangular distribution, the min estimate is 7930.370879, the mode estimate is 15521.250000, and the max estimate is 25644.766261.\n",
            "The test statistic for a triangular distribution is 7.270920 and the p-value is 0.296518.\n"
          ]
        }
      ],
      "source": [
        "# For the total processing time of eaeh pallet\n",
        "(my_mean, my_std) = test_distribution(my_data['Hours'], distribution=\"normal\")\n",
        "(my_alpha, my_beta) = test_distribution(my_data[\"Hours\"], distribution=\"gamma\")\n",
        "(min, mode, max) = test_distribution(my_data[\"Hours\"], distribution=\"triangular\")\n",
        "\n",
        "# For the total processing time for all pallets delivered each week\n",
        "(my_mean, my_std) = test_distribution(weekly_processing_time[\"Total Processing Time (Hours)\"], distribution=\"normal\")\n",
        "(my_alpha, my_beta) = test_distribution(weekly_processing_time[\"Total Processing Time (Hours)\"], distribution=\"gamma\")\n",
        "(min, mode, max) = test_distribution(weekly_processing_time[\"Total Processing Time (Hours)\"], distribution=\"triangular\")"
      ]
    },
    {
      "cell_type": "code",
      "source": [
        "# A new estimate for the total processing time available for a week\n",
        "gamma_mean = np.mean(weekly_processing_time[\"Total Processing Time (Hours)\"])\n",
        "print(gamma_mean)"
      ],
      "metadata": {
        "id": "ckB6v2W-Jk2g",
        "colab": {
          "base_uri": "https://localhost:8080/"
        },
        "outputId": "03e8d5ae-6aab-42d7-99c5-329787239acc"
      },
      "execution_count": null,
      "outputs": [
        {
          "output_type": "stream",
          "name": "stdout",
          "text": [
            "15960.149038461539\n"
          ]
        }
      ]
    },
    {
      "cell_type": "markdown",
      "metadata": {
        "id": "TBDMakcGME99"
      },
      "source": [
        "Sampling data"
      ]
    },
    {
      "cell_type": "code",
      "execution_count": null,
      "metadata": {
        "colab": {
          "base_uri": "https://localhost:8080/"
        },
        "id": "8M_GC731MGoP",
        "outputId": "24f5800b-cf7c-4845-b6c2-e5c71cf204f0"
      },
      "outputs": [
        {
          "output_type": "stream",
          "name": "stdout",
          "text": [
            "30.56094867764837\n",
            "66.54538180714351\n",
            "37.96741249856179\n",
            "46.15480939722522\n",
            "48.6161616128771\n",
            "39.705035536676675\n",
            "31.311181855944653\n",
            "58.313168907475244\n",
            "54.45926678254477\n",
            "23.477505119041513\n"
          ]
        }
      ],
      "source": [
        "rg = np.random.default_rng(12345)\n",
        "for i in range(10):\n",
        "  print(rg.normal(49.624955 , 13.389290))   # sampling freezing times for each pallet\n"
      ]
    },
    {
      "cell_type": "markdown",
      "metadata": {
        "id": "LBCCnNLp0ThI"
      },
      "source": [
        "Our Simulation"
      ]
    },
    {
      "cell_type": "code",
      "execution_count": null,
      "metadata": {
        "colab": {
          "base_uri": "https://localhost:8080/"
        },
        "id": "XswC5Uc70W6_",
        "outputId": "84895706-3cdb-4fba-b11d-3e5e2f372ee1"
      },
      "outputs": [
        {
          "output_type": "stream",
          "name": "stdout",
          "text": [
            "10\n",
            "Total freezing time per week: 11915.105015\n",
            "50th percentile for total freezing time per week: 11915.214956\n",
            "95th percentile for total freezing time per week: 12263.915793\n",
            "15\n",
            "Total freezing time per week: 17874.465702\n",
            "50th percentile for total freezing time per week: 17864.606223\n",
            "95th percentile for total freezing time per week: 18307.486919\n",
            "20\n",
            "Total freezing time per week: 23829.173469\n",
            "50th percentile for total freezing time per week: 23825.105772\n",
            "95th percentile for total freezing time per week: 24316.169402\n",
            "25\n",
            "Total freezing time per week: 29791.267060\n",
            "50th percentile for total freezing time per week: 29797.159358\n",
            "95th percentile for total freezing time per week: 30365.001744\n",
            "30\n",
            "Total freezing time per week: 35752.378686\n",
            "50th percentile for total freezing time per week: 35743.191900\n",
            "95th percentile for total freezing time per week: 36350.597335\n",
            "35\n",
            "Total freezing time per week: 41710.181639\n",
            "50th percentile for total freezing time per week: 41697.383016\n",
            "95th percentile for total freezing time per week: 42386.364018\n",
            "40\n",
            "Total freezing time per week: 47660.104710\n",
            "50th percentile for total freezing time per week: 47643.427854\n",
            "95th percentile for total freezing time per week: 48352.401325\n"
          ]
        }
      ],
      "source": [
        "import numpy as np\n",
        "import seaborn as sns\n",
        "import matplotlib.pyplot as plt\n",
        "\n",
        "# total_freezing_time_per_week = 34,560 hrs  # when we didn't have data\n",
        "\n",
        "# total_freezing_time_per_week = 15,960.149 hrs # when got the real data\n",
        "\n",
        "trucks_scheduled_list = range(10, 41, 5)  # decisions or policies 10, 15, 20, 25, 30 ,35, 40 trucks\n",
        "\n",
        "n = 1000\n",
        "for trucks in trucks_scheduled_list:\n",
        "    rg = np.random.default_rng(12345)   # set seed for every decision\n",
        "    print(trucks)\n",
        "    total_freezing_time_per_week = []   # keep track of freezing time for every decision\n",
        "\n",
        "    for i in range(n):   # simulate the total freezing time per week for every decision 1000 iterations\n",
        "        total_freezing_time = 0\n",
        "        pallets_in_truck = 24*trucks   # total pallets for every decision\n",
        "\n",
        "        for pallets in range(pallets_in_truck):   # sampling a freezing time for each pallet\n",
        "            freezing_time = rg.normal(49.624955 , 13.389290)   # normal freezing times\n",
        "            total_freezing_time += freezing_time    # total freezing time per week for every iteration\n",
        "        total_freezing_time_per_week.append(total_freezing_time)\n",
        "\n",
        "    print(\"Total freezing time per week: %f\" % (sum(total_freezing_time_per_week)/n))  # total freezing time per week for each decision\n",
        "\n",
        "    fifty_perc = np.percentile(total_freezing_time_per_week, q=50)\n",
        "    print (\"50th percentile for total freezing time per week: %f\" % (fifty_perc))\n",
        "    ninty_five_perc = np.percentile(total_freezing_time_per_week, q=95)\n",
        "    print (\"95th percentile for total freezing time per week: %f\" % (ninty_five_perc))\n",
        "\n",
        "    # Crideble intervals to see the results of the percentile\n",
        "    #plt.figure()\n",
        "    #sns.histplot(total_freezing_time_per_week)\n",
        "    #plt.title(f'Trucks: {trucks}')\n",
        "    #plt.xlabel('Total Freezing Time per Week')\n",
        "    #plt.ylabel('Frequency')\n",
        "    #plt.show()"
      ]
    },
    {
      "cell_type": "code",
      "source": [],
      "metadata": {
        "id": "W8lsZLCuo27T"
      },
      "execution_count": null,
      "outputs": []
    },
    {
      "cell_type": "code",
      "source": [],
      "metadata": {
        "id": "de-jIjIRo234"
      },
      "execution_count": null,
      "outputs": []
    },
    {
      "cell_type": "code",
      "source": [],
      "metadata": {
        "id": "Udd-CE-Xo21k"
      },
      "execution_count": null,
      "outputs": []
    },
    {
      "cell_type": "markdown",
      "source": [
        "ChatGPT Simulation"
      ],
      "metadata": {
        "id": "OZqYygZ3wSRU"
      }
    },
    {
      "cell_type": "code",
      "source": [
        "import numpy as np\n",
        "\n",
        "# Set seed for reproducibility\n",
        "rg = np.random.default_rng(12345)\n",
        "\n",
        "# Define parameters for the triangular distribution\n",
        "min_time = 7\n",
        "mode_time = 65\n",
        "max_time = 72\n",
        "\n",
        "# Define constants\n",
        "total_cells = 288\n",
        "hours_per_day = 24\n",
        "days_per_week = 5\n",
        "available_hours = total_cells * hours_per_day * days_per_week\n",
        "truck_capacity = 24\n",
        "\n",
        "# Initialize results list\n",
        "results = []\n",
        "\n",
        "# Simulate different policies\n",
        "for num_trucks in range(10, 41, 5):  # Try policies with 10 to 40 trucks with increment of 5\n",
        "    total_processing_time = 0\n",
        "\n",
        "    for _ in range(num_trucks):\n",
        "        for _ in range(truck_capacity):\n",
        "            processing_time = rg.triangular(min_time, mode_time, max_time)\n",
        "            total_processing_time += processing_time\n",
        "\n",
        "    if total_processing_time > available_hours:\n",
        "        num_trucks -= 1\n",
        "\n",
        "    results.append((num_trucks, total_processing_time))\n",
        "\n",
        "# Print the results\n",
        "for num_trucks, processing_time in results:\n",
        "    print(f\"Policy {num_trucks}: Total Processing Time = {processing_time} hours\")"
      ],
      "metadata": {
        "id": "3QE52hUy0V9c",
        "outputId": "95c91839-14e7-4c04-e5fb-b58ee5a58b12",
        "colab": {
          "base_uri": "https://localhost:8080/"
        }
      },
      "execution_count": null,
      "outputs": [
        {
          "output_type": "stream",
          "name": "stdout",
          "text": [
            "Policy 10: Total Processing Time = 11304.690779813805 hours\n",
            "Policy 15: Total Processing Time = 17152.562572811657 hours\n",
            "Policy 20: Total Processing Time = 22895.84377113791 hours\n",
            "Policy 25: Total Processing Time = 28837.045578224675 hours\n",
            "Policy 29: Total Processing Time = 35014.62328152905 hours\n",
            "Policy 34: Total Processing Time = 40133.61132606647 hours\n",
            "Policy 39: Total Processing Time = 46016.9673027916 hours\n"
          ]
        }
      ]
    }
  ],
  "metadata": {
    "colab": {
      "provenance": [],
      "include_colab_link": true
    },
    "kernelspec": {
      "display_name": "Python 3",
      "name": "python3"
    },
    "language_info": {
      "name": "python"
    }
  },
  "nbformat": 4,
  "nbformat_minor": 0
}